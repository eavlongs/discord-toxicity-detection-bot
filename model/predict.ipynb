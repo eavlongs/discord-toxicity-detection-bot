{
 "cells": [
  {
   "cell_type": "code",
   "execution_count": 1,
   "id": "acfa5ffa-e5e4-4041-be6e-9966680b96e1",
   "metadata": {},
   "outputs": [],
   "source": [
    "import pandas as pd\n",
    "from sklearn.model_selection import train_test_split\n",
    "import torch\n",
    "import pytorch_lightning as pl\n",
    "from torchmetrics.functional.classification import auroc\n",
    "import torch.nn.functional as F\n",
    "import numpy as np\n",
    "from ToxicityDataModule import ToxicityDataModule, max_token_len\n",
    "from ToxicityClassifier import ToxicityClassifier\n",
    "import json"
   ]
  },
  {
   "cell_type": "code",
   "execution_count": 2,
   "id": "020a8801-178a-4538-bba7-bdbde0636050",
   "metadata": {},
   "outputs": [
    {
     "data": {
      "text/plain": [
       "<bound method NDFrame.head of          Unnamed: 0                id  \\\n",
       "0                 0             59848   \n",
       "1                 1             59849   \n",
       "2                 2             59852   \n",
       "3                 3             59855   \n",
       "4                 4             59856   \n",
       "...             ...               ...   \n",
       "1964286     1964289  ffe987279560d7ff   \n",
       "1964287     1964290  ffea4adeee384e90   \n",
       "1964288     1964291  ffee36eab5c267c9   \n",
       "1964289     1964292  fff125370e4aaaf3   \n",
       "1964290     1964293  fff46fc426af1f9a   \n",
       "\n",
       "                                              comment_text  score  \n",
       "0        this is so cool. it is like, 'would you want y...      0  \n",
       "1        thank you!! this would make my life a lot less...      0  \n",
       "2        this is such an urgent design problem; kudos t...      0  \n",
       "3        is this something i will be able to install on...      0  \n",
       "4                     haha you guys are a bunch of losers.      9  \n",
       "...                                                    ...    ...  \n",
       "1964286  \":::::and for the second time of asking, when ...      0  \n",
       "1964287  you should be ashamed of yourself \\n\\nthat is ...      0  \n",
       "1964288  spitzer \\n\\numm, there is no actual article fo...      0  \n",
       "1964289  and it looks like it was actually you who put ...      0  \n",
       "1964290  \"\\nand ... i really do not think you understan...      0  \n",
       "\n",
       "[1964291 rows x 4 columns]>"
      ]
     },
     "execution_count": 2,
     "metadata": {},
     "output_type": "execute_result"
    }
   ],
   "source": [
    "data_path = \"./dataset/processed/train.csv\"\n",
    "ds = pd.read_csv(data_path, dtype={\"id\": str})\n",
    "ds.head"
   ]
  },
  {
   "cell_type": "code",
   "execution_count": 3,
   "id": "5e48248c-86ee-48ff-b12a-745ebf1780b1",
   "metadata": {},
   "outputs": [
    {
     "data": {
      "text/plain": [
       "<bound method NDFrame.head of                                               comment_text  score\n",
       "206654   so pat, why do you believe the oinker in a pan...      4\n",
       "1652250  so are you saying that paul is simply a christ...      0\n",
       "1164078  \"for men, sex is a purely selfish act.\" \\n\\nth...      0\n",
       "1378676  the much desired cfl diversity is strength t-s...      0\n",
       "757356   it would appear as if all canadians are equal,...      2\n",
       "...                                                    ...    ...\n",
       "1667903  i agree cheetolini and his followers should be...      0\n",
       "1256524  at least he has balls!  obama's wife had bigge...      8\n",
       "1664258  did tulo hire a pi with his 250net weekly payc...      0\n",
       "511669   do you really think their message will be hear...      0\n",
       "1281987  when i was teaching school, i did science expe...      0\n",
       "\n",
       "[117858 rows x 2 columns]>"
      ]
     },
     "execution_count": 3,
     "metadata": {},
     "output_type": "execute_result"
    }
   ],
   "source": [
    "X = ds[\"comment_text\"]\n",
    "y = ds[\"score\"]\n",
    "X, _, y, _ = train_test_split(X, y, test_size=0.7, random_state=103)\n",
    "X_train, X_test, y_train, y_test = train_test_split(X, y, test_size=0.2, random_state=103)\n",
    "train_ds = pd.DataFrame({\"comment_text\": X_train, \"score\": y_train})\n",
    "val_ds = pd.DataFrame({\"comment_text\": X_test, \"score\": y_test})\n",
    "\n",
    "val_ds.head"
   ]
  },
  {
   "cell_type": "code",
   "execution_count": 4,
   "id": "0b664b15-804c-4eb7-9019-11cf7bad8c41",
   "metadata": {},
   "outputs": [],
   "source": [
    "config = json.load(open(\"config.json\"))\n",
    "\n",
    "data_module = ToxicityDataModule(train_ds, val_ds, max_token_len, model_name = config[\"model_name\"], batch_size = config[\"batch_size\"])\n",
    "data_module.setup()"
   ]
  },
  {
   "cell_type": "code",
   "execution_count": 5,
   "id": "086c6cd1-beb5-43b0-8e1c-9ef3c8d6b561",
   "metadata": {},
   "outputs": [
    {
     "name": "stderr",
     "output_type": "stream",
     "text": [
      "GPU available: False, used: False\n",
      "TPU available: False, using: 0 TPU cores\n",
      "HPU available: False, using: 0 HPUs\n"
     ]
    },
    {
     "data": {
      "text/plain": [
       "<All keys matched successfully>"
      ]
     },
     "execution_count": 5,
     "metadata": {},
     "output_type": "execute_result"
    }
   ],
   "source": [
    "trainer = pl.Trainer(max_epochs=config[\"n_epochs\"], num_sanity_val_steps=2, logger = True, enable_progress_bar = True, num_nodes = 1)\n",
    "model = ToxicityClassifier(config)\n",
    "device = torch.device('cuda' if torch.cuda.is_available() else 'cpu')\n",
    "model.to(device)\n",
    "torch.set_float32_matmul_precision(\"medium\")\n",
    "\n",
    "model.load_state_dict(torch.load(\"./trained/v1.pth\"))"
   ]
  },
  {
   "cell_type": "code",
   "execution_count": 6,
   "id": "0c42abb1-0222-4e7f-a449-c5bfe0da7a73",
   "metadata": {},
   "outputs": [],
   "source": [
    "def predict_toxicity(model, data_module):\n",
    "    predictions = trainer.predict(model, datamodule=data_module)\n",
    "    flattened_predictions = np.stack([torch.sigmoid(torch.Tensor(p)) for batch in predictions for p in batch])\n",
    "    return flattened_predictions"
   ]
  },
  {
   "cell_type": "code",
   "execution_count": null,
   "id": "61a3dab2-9bf2-4afe-b638-f1e00d89fa63",
   "metadata": {},
   "outputs": [
    {
     "name": "stdout",
     "output_type": "stream",
     "text": [
      "WARNING:tensorflow:From C:\\Users\\Long\\AppData\\Local\\Programs\\Python\\Python311\\Lib\\site-packages\\keras\\src\\losses.py:2976: The name tf.losses.sparse_softmax_cross_entropy is deprecated. Please use tf.compat.v1.losses.sparse_softmax_cross_entropy instead.\n",
      "\n"
     ]
    },
    {
     "data": {
      "application/vnd.jupyter.widget-view+json": {
       "model_id": "b0cb352001d24da783aa8dd629a22fad",
       "version_major": 2,
       "version_minor": 0
      },
      "text/plain": [
       "Predicting: |                                                                                                 …"
      ]
     },
     "metadata": {},
     "output_type": "display_data"
    }
   ],
   "source": [
    "predictions = predict_toxicity(model, data_module)\n",
    "predictions"
   ]
  },
  {
   "cell_type": "code",
   "execution_count": null,
   "id": "98e15a61-ff38-47d8-927e-69bafcecd14f",
   "metadata": {},
   "outputs": [],
   "source": [
    "predictions = np.round(predictions)\n",
    "predictions"
   ]
  },
  {
   "cell_type": "code",
   "execution_count": null,
   "id": "c5470d1b-b506-4097-a397-02b8cc36d9c6",
   "metadata": {},
   "outputs": [],
   "source": [
    "from sklearn import metrics\n",
    "plt.figure(figsize=(15, 8))\n",
    "for i, attribute in enumerate(attributes):\n",
    "  fpr, tpr, _ = metrics.roc_curve(\n",
    "      true_labels[:,i].astype(int), predictions[:, i])\n",
    "  auc = metrics.roc_auc_score(\n",
    "      true_labels[:,i].astype(int), predictions[:, i])\n",
    "  plt.plot(fpr, tpr, label='%s %g' % (attribute, auc))\n",
    "plt.xlabel('False Positive Rate')\n",
    "plt.ylabel('True Positive Rate')\n",
    "plt.legend(loc='lower right')\n",
    "plt.title('RoBERTa Trained on UCC Datatset - AUC ROC')"
   ]
  }
 ],
 "metadata": {
  "kernelspec": {
   "display_name": "Python 3 (ipykernel)",
   "language": "python",
   "name": "python3"
  },
  "language_info": {
   "codemirror_mode": {
    "name": "ipython",
    "version": 3
   },
   "file_extension": ".py",
   "mimetype": "text/x-python",
   "name": "python",
   "nbconvert_exporter": "python",
   "pygments_lexer": "ipython3",
   "version": "3.11.7"
  }
 },
 "nbformat": 4,
 "nbformat_minor": 5
}
