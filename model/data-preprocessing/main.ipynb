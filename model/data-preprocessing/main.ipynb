{
 "cells": [
  {
   "cell_type": "code",
   "execution_count": 1,
   "id": "b448711b-7ce3-43ab-9e17-be654ac49601",
   "metadata": {},
   "outputs": [],
   "source": [
    "import pandas as pd"
   ]
  },
  {
   "cell_type": "code",
   "execution_count": 2,
   "id": "7cc09a84-7736-400d-8a23-dd904b41e7df",
   "metadata": {},
   "outputs": [],
   "source": [
    "train_1 = pd.read_csv(\"../dataset/unprocessed/jigsaw-toxic-comment-classification-challenge/train.csv\")\n",
    "train_2 = pd.read_csv(\"../dataset/unprocessed/jigsaw-unintended-bias-in-toxicity-classification/train.csv\")"
   ]
  },
  {
   "cell_type": "code",
   "execution_count": 3,
   "id": "1a1b5ae4-114f-4207-9817-7979a804b30e",
   "metadata": {},
   "outputs": [],
   "source": [
    "test_1 = pd.read_csv(\"../dataset/unprocessed/jigsaw-toxic-comment-classification-challenge/test.csv\")\n",
    "test_2 = pd.read_csv(\"../dataset/unprocessed/jigsaw-unintended-bias-in-toxicity-classification/test.csv\")"
   ]
  },
  {
   "cell_type": "code",
   "execution_count": 4,
   "id": "c761cf5d-4b16-4a43-a154-55c76f947e47",
   "metadata": {},
   "outputs": [
    {
     "data": {
      "text/html": [
       "<div>\n",
       "<style scoped>\n",
       "    .dataframe tbody tr th:only-of-type {\n",
       "        vertical-align: middle;\n",
       "    }\n",
       "\n",
       "    .dataframe tbody tr th {\n",
       "        vertical-align: top;\n",
       "    }\n",
       "\n",
       "    .dataframe thead th {\n",
       "        text-align: right;\n",
       "    }\n",
       "</style>\n",
       "<table border=\"1\" class=\"dataframe\">\n",
       "  <thead>\n",
       "    <tr style=\"text-align: right;\">\n",
       "      <th></th>\n",
       "      <th>id</th>\n",
       "      <th>comment_text</th>\n",
       "      <th>toxic</th>\n",
       "      <th>severe_toxic</th>\n",
       "      <th>obscene</th>\n",
       "      <th>threat</th>\n",
       "      <th>insult</th>\n",
       "      <th>identity_hate</th>\n",
       "    </tr>\n",
       "  </thead>\n",
       "  <tbody>\n",
       "    <tr>\n",
       "      <th>0</th>\n",
       "      <td>0000997932d777bf</td>\n",
       "      <td>Explanation\\nWhy the edits made under my usern...</td>\n",
       "      <td>0</td>\n",
       "      <td>0</td>\n",
       "      <td>0</td>\n",
       "      <td>0</td>\n",
       "      <td>0</td>\n",
       "      <td>0</td>\n",
       "    </tr>\n",
       "    <tr>\n",
       "      <th>1</th>\n",
       "      <td>000103f0d9cfb60f</td>\n",
       "      <td>D'aww! He matches this background colour I'm s...</td>\n",
       "      <td>0</td>\n",
       "      <td>0</td>\n",
       "      <td>0</td>\n",
       "      <td>0</td>\n",
       "      <td>0</td>\n",
       "      <td>0</td>\n",
       "    </tr>\n",
       "    <tr>\n",
       "      <th>2</th>\n",
       "      <td>000113f07ec002fd</td>\n",
       "      <td>Hey man, I'm really not trying to edit war. It...</td>\n",
       "      <td>0</td>\n",
       "      <td>0</td>\n",
       "      <td>0</td>\n",
       "      <td>0</td>\n",
       "      <td>0</td>\n",
       "      <td>0</td>\n",
       "    </tr>\n",
       "    <tr>\n",
       "      <th>3</th>\n",
       "      <td>0001b41b1c6bb37e</td>\n",
       "      <td>\"\\nMore\\nI can't make any real suggestions on ...</td>\n",
       "      <td>0</td>\n",
       "      <td>0</td>\n",
       "      <td>0</td>\n",
       "      <td>0</td>\n",
       "      <td>0</td>\n",
       "      <td>0</td>\n",
       "    </tr>\n",
       "    <tr>\n",
       "      <th>4</th>\n",
       "      <td>0001d958c54c6e35</td>\n",
       "      <td>You, sir, are my hero. Any chance you remember...</td>\n",
       "      <td>0</td>\n",
       "      <td>0</td>\n",
       "      <td>0</td>\n",
       "      <td>0</td>\n",
       "      <td>0</td>\n",
       "      <td>0</td>\n",
       "    </tr>\n",
       "    <tr>\n",
       "      <th>5</th>\n",
       "      <td>00025465d4725e87</td>\n",
       "      <td>\"\\n\\nCongratulations from me as well, use the ...</td>\n",
       "      <td>0</td>\n",
       "      <td>0</td>\n",
       "      <td>0</td>\n",
       "      <td>0</td>\n",
       "      <td>0</td>\n",
       "      <td>0</td>\n",
       "    </tr>\n",
       "    <tr>\n",
       "      <th>6</th>\n",
       "      <td>0002bcb3da6cb337</td>\n",
       "      <td>COCKSUCKER BEFORE YOU PISS AROUND ON MY WORK</td>\n",
       "      <td>1</td>\n",
       "      <td>1</td>\n",
       "      <td>1</td>\n",
       "      <td>0</td>\n",
       "      <td>1</td>\n",
       "      <td>0</td>\n",
       "    </tr>\n",
       "    <tr>\n",
       "      <th>7</th>\n",
       "      <td>00031b1e95af7921</td>\n",
       "      <td>Your vandalism to the Matt Shirvington article...</td>\n",
       "      <td>0</td>\n",
       "      <td>0</td>\n",
       "      <td>0</td>\n",
       "      <td>0</td>\n",
       "      <td>0</td>\n",
       "      <td>0</td>\n",
       "    </tr>\n",
       "    <tr>\n",
       "      <th>8</th>\n",
       "      <td>00037261f536c51d</td>\n",
       "      <td>Sorry if the word 'nonsense' was offensive to ...</td>\n",
       "      <td>0</td>\n",
       "      <td>0</td>\n",
       "      <td>0</td>\n",
       "      <td>0</td>\n",
       "      <td>0</td>\n",
       "      <td>0</td>\n",
       "    </tr>\n",
       "    <tr>\n",
       "      <th>9</th>\n",
       "      <td>00040093b2687caa</td>\n",
       "      <td>alignment on this subject and which are contra...</td>\n",
       "      <td>0</td>\n",
       "      <td>0</td>\n",
       "      <td>0</td>\n",
       "      <td>0</td>\n",
       "      <td>0</td>\n",
       "      <td>0</td>\n",
       "    </tr>\n",
       "  </tbody>\n",
       "</table>\n",
       "</div>"
      ],
      "text/plain": [
       "                 id                                       comment_text  toxic  \\\n",
       "0  0000997932d777bf  Explanation\\nWhy the edits made under my usern...      0   \n",
       "1  000103f0d9cfb60f  D'aww! He matches this background colour I'm s...      0   \n",
       "2  000113f07ec002fd  Hey man, I'm really not trying to edit war. It...      0   \n",
       "3  0001b41b1c6bb37e  \"\\nMore\\nI can't make any real suggestions on ...      0   \n",
       "4  0001d958c54c6e35  You, sir, are my hero. Any chance you remember...      0   \n",
       "5  00025465d4725e87  \"\\n\\nCongratulations from me as well, use the ...      0   \n",
       "6  0002bcb3da6cb337       COCKSUCKER BEFORE YOU PISS AROUND ON MY WORK      1   \n",
       "7  00031b1e95af7921  Your vandalism to the Matt Shirvington article...      0   \n",
       "8  00037261f536c51d  Sorry if the word 'nonsense' was offensive to ...      0   \n",
       "9  00040093b2687caa  alignment on this subject and which are contra...      0   \n",
       "\n",
       "   severe_toxic  obscene  threat  insult  identity_hate  \n",
       "0             0        0       0       0              0  \n",
       "1             0        0       0       0              0  \n",
       "2             0        0       0       0              0  \n",
       "3             0        0       0       0              0  \n",
       "4             0        0       0       0              0  \n",
       "5             0        0       0       0              0  \n",
       "6             1        1       0       1              0  \n",
       "7             0        0       0       0              0  \n",
       "8             0        0       0       0              0  \n",
       "9             0        0       0       0              0  "
      ]
     },
     "execution_count": 4,
     "metadata": {},
     "output_type": "execute_result"
    }
   ],
   "source": [
    "train_1.head(10)"
   ]
  },
  {
   "cell_type": "code",
   "execution_count": 5,
   "id": "067cfd5d-86cd-47b4-a419-cc9cbe57cd91",
   "metadata": {},
   "outputs": [
    {
     "data": {
      "text/html": [
       "<div>\n",
       "<style scoped>\n",
       "    .dataframe tbody tr th:only-of-type {\n",
       "        vertical-align: middle;\n",
       "    }\n",
       "\n",
       "    .dataframe tbody tr th {\n",
       "        vertical-align: top;\n",
       "    }\n",
       "\n",
       "    .dataframe thead th {\n",
       "        text-align: right;\n",
       "    }\n",
       "</style>\n",
       "<table border=\"1\" class=\"dataframe\">\n",
       "  <thead>\n",
       "    <tr style=\"text-align: right;\">\n",
       "      <th></th>\n",
       "      <th>id</th>\n",
       "      <th>comment_text</th>\n",
       "      <th>toxic</th>\n",
       "      <th>severe_toxic</th>\n",
       "      <th>obscene</th>\n",
       "      <th>threat</th>\n",
       "      <th>insult</th>\n",
       "      <th>identity_hate</th>\n",
       "    </tr>\n",
       "  </thead>\n",
       "  <tbody>\n",
       "    <tr>\n",
       "      <th>6</th>\n",
       "      <td>0002bcb3da6cb337</td>\n",
       "      <td>COCKSUCKER BEFORE YOU PISS AROUND ON MY WORK</td>\n",
       "      <td>1</td>\n",
       "      <td>1</td>\n",
       "      <td>1</td>\n",
       "      <td>0</td>\n",
       "      <td>1</td>\n",
       "      <td>0</td>\n",
       "    </tr>\n",
       "  </tbody>\n",
       "</table>\n",
       "</div>"
      ],
      "text/plain": [
       "                 id                                  comment_text  toxic  \\\n",
       "6  0002bcb3da6cb337  COCKSUCKER BEFORE YOU PISS AROUND ON MY WORK      1   \n",
       "\n",
       "   severe_toxic  obscene  threat  insult  identity_hate  \n",
       "6             1        1       0       1              0  "
      ]
     },
     "execution_count": 5,
     "metadata": {},
     "output_type": "execute_result"
    }
   ],
   "source": [
    "train_1.loc[train_1[\"id\"] == \"0002bcb3da6cb337\"]"
   ]
  },
  {
   "cell_type": "code",
   "execution_count": 6,
   "id": "189fc494-8839-4105-8086-e674920d167d",
   "metadata": {},
   "outputs": [
    {
     "data": {
      "text/html": [
       "<div>\n",
       "<style scoped>\n",
       "    .dataframe tbody tr th:only-of-type {\n",
       "        vertical-align: middle;\n",
       "    }\n",
       "\n",
       "    .dataframe tbody tr th {\n",
       "        vertical-align: top;\n",
       "    }\n",
       "\n",
       "    .dataframe thead th {\n",
       "        text-align: right;\n",
       "    }\n",
       "</style>\n",
       "<table border=\"1\" class=\"dataframe\">\n",
       "  <thead>\n",
       "    <tr style=\"text-align: right;\">\n",
       "      <th></th>\n",
       "      <th>id</th>\n",
       "      <th>comment_text</th>\n",
       "      <th>target</th>\n",
       "    </tr>\n",
       "  </thead>\n",
       "  <tbody>\n",
       "    <tr>\n",
       "      <th>0</th>\n",
       "      <td>59848</td>\n",
       "      <td>This is so cool. It's like, 'would you want yo...</td>\n",
       "      <td>0.000000</td>\n",
       "    </tr>\n",
       "    <tr>\n",
       "      <th>1</th>\n",
       "      <td>59849</td>\n",
       "      <td>Thank you!! This would make my life a lot less...</td>\n",
       "      <td>0.000000</td>\n",
       "    </tr>\n",
       "    <tr>\n",
       "      <th>2</th>\n",
       "      <td>59852</td>\n",
       "      <td>This is such an urgent design problem; kudos t...</td>\n",
       "      <td>0.000000</td>\n",
       "    </tr>\n",
       "    <tr>\n",
       "      <th>3</th>\n",
       "      <td>59855</td>\n",
       "      <td>Is this something I'll be able to install on m...</td>\n",
       "      <td>0.000000</td>\n",
       "    </tr>\n",
       "    <tr>\n",
       "      <th>4</th>\n",
       "      <td>59856</td>\n",
       "      <td>haha you guys are a bunch of losers.</td>\n",
       "      <td>0.893617</td>\n",
       "    </tr>\n",
       "    <tr>\n",
       "      <th>5</th>\n",
       "      <td>59859</td>\n",
       "      <td>ur a sh*tty comment.</td>\n",
       "      <td>0.666667</td>\n",
       "    </tr>\n",
       "    <tr>\n",
       "      <th>6</th>\n",
       "      <td>59861</td>\n",
       "      <td>hahahahahahahahhha suck it.</td>\n",
       "      <td>0.457627</td>\n",
       "    </tr>\n",
       "    <tr>\n",
       "      <th>7</th>\n",
       "      <td>59863</td>\n",
       "      <td>FFFFUUUUUUUUUUUUUUU</td>\n",
       "      <td>0.000000</td>\n",
       "    </tr>\n",
       "    <tr>\n",
       "      <th>8</th>\n",
       "      <td>239575</td>\n",
       "      <td>The ranchers seem motivated by mostly by greed...</td>\n",
       "      <td>0.000000</td>\n",
       "    </tr>\n",
       "    <tr>\n",
       "      <th>9</th>\n",
       "      <td>239576</td>\n",
       "      <td>It was a great show. Not a combo I'd of expect...</td>\n",
       "      <td>0.000000</td>\n",
       "    </tr>\n",
       "  </tbody>\n",
       "</table>\n",
       "</div>"
      ],
      "text/plain": [
       "       id                                       comment_text    target\n",
       "0   59848  This is so cool. It's like, 'would you want yo...  0.000000\n",
       "1   59849  Thank you!! This would make my life a lot less...  0.000000\n",
       "2   59852  This is such an urgent design problem; kudos t...  0.000000\n",
       "3   59855  Is this something I'll be able to install on m...  0.000000\n",
       "4   59856               haha you guys are a bunch of losers.  0.893617\n",
       "5   59859                               ur a sh*tty comment.  0.666667\n",
       "6   59861                        hahahahahahahahhha suck it.  0.457627\n",
       "7   59863                                FFFFUUUUUUUUUUUUUUU  0.000000\n",
       "8  239575  The ranchers seem motivated by mostly by greed...  0.000000\n",
       "9  239576  It was a great show. Not a combo I'd of expect...  0.000000"
      ]
     },
     "execution_count": 6,
     "metadata": {},
     "output_type": "execute_result"
    }
   ],
   "source": [
    "train_2[[\"id\", \"comment_text\", \"target\"]].head(10)"
   ]
  },
  {
   "cell_type": "code",
   "execution_count": 7,
   "id": "abf3a2c8-6aa1-405a-a864-bff31e3cdaa7",
   "metadata": {},
   "outputs": [
    {
     "data": {
      "text/plain": [
       "(153164, 2)"
      ]
     },
     "execution_count": 7,
     "metadata": {},
     "output_type": "execute_result"
    }
   ],
   "source": [
    "test_1.shape"
   ]
  },
  {
   "cell_type": "code",
   "execution_count": 8,
   "id": "391dd0db-8727-4b40-8d27-dcdd16292c95",
   "metadata": {},
   "outputs": [
    {
     "data": {
      "text/plain": [
       "(97320, 2)"
      ]
     },
     "execution_count": 8,
     "metadata": {},
     "output_type": "execute_result"
    }
   ],
   "source": [
    "test_2.shape"
   ]
  },
  {
   "cell_type": "markdown",
   "id": "c4665746-b4ab-4c47-8bf2-bfdf72adca32",
   "metadata": {},
   "source": [
    "### Add score feature and remove unnecessary columns from train_1"
   ]
  },
  {
   "cell_type": "code",
   "execution_count": 9,
   "id": "7ace6159-49f8-40dc-adb6-bcc467641d6d",
   "metadata": {},
   "outputs": [],
   "source": [
    "def label_toxicity_score(row):\n",
    "    weights = {\"toxic\": 0.4, \"severe_toxic\": 0.2, \"obscene\": 0.4, \"threat\": 0.4, \"insult\": 0.2, \"identity_hate\": 0.3 }\n",
    "    score = sum(row[key] * weight for key, weight in weights.items())\n",
    "\n",
    "    if score > 1:\n",
    "        score = 1\n",
    "        \n",
    "    return score"
   ]
  },
  {
   "cell_type": "code",
   "execution_count": 10,
   "id": "429f640c-2cbb-4c06-84a7-428733a74e97",
   "metadata": {},
   "outputs": [],
   "source": [
    "train_1[\"score\"] = train_1.apply(label_toxicity_score, axis=1)"
   ]
  },
  {
   "cell_type": "code",
   "execution_count": 11,
   "id": "72866555-16c0-4dbd-8cd6-632e3090f604",
   "metadata": {},
   "outputs": [
    {
     "data": {
      "text/html": [
       "<div>\n",
       "<style scoped>\n",
       "    .dataframe tbody tr th:only-of-type {\n",
       "        vertical-align: middle;\n",
       "    }\n",
       "\n",
       "    .dataframe tbody tr th {\n",
       "        vertical-align: top;\n",
       "    }\n",
       "\n",
       "    .dataframe thead th {\n",
       "        text-align: right;\n",
       "    }\n",
       "</style>\n",
       "<table border=\"1\" class=\"dataframe\">\n",
       "  <thead>\n",
       "    <tr style=\"text-align: right;\">\n",
       "      <th></th>\n",
       "      <th>id</th>\n",
       "      <th>comment_text</th>\n",
       "      <th>score</th>\n",
       "    </tr>\n",
       "  </thead>\n",
       "  <tbody>\n",
       "    <tr>\n",
       "      <th>0</th>\n",
       "      <td>0000997932d777bf</td>\n",
       "      <td>Explanation\\nWhy the edits made under my usern...</td>\n",
       "      <td>0.0</td>\n",
       "    </tr>\n",
       "    <tr>\n",
       "      <th>1</th>\n",
       "      <td>000103f0d9cfb60f</td>\n",
       "      <td>D'aww! He matches this background colour I'm s...</td>\n",
       "      <td>0.0</td>\n",
       "    </tr>\n",
       "    <tr>\n",
       "      <th>2</th>\n",
       "      <td>000113f07ec002fd</td>\n",
       "      <td>Hey man, I'm really not trying to edit war. It...</td>\n",
       "      <td>0.0</td>\n",
       "    </tr>\n",
       "    <tr>\n",
       "      <th>3</th>\n",
       "      <td>0001b41b1c6bb37e</td>\n",
       "      <td>\"\\nMore\\nI can't make any real suggestions on ...</td>\n",
       "      <td>0.0</td>\n",
       "    </tr>\n",
       "    <tr>\n",
       "      <th>4</th>\n",
       "      <td>0001d958c54c6e35</td>\n",
       "      <td>You, sir, are my hero. Any chance you remember...</td>\n",
       "      <td>0.0</td>\n",
       "    </tr>\n",
       "  </tbody>\n",
       "</table>\n",
       "</div>"
      ],
      "text/plain": [
       "                 id                                       comment_text  score\n",
       "0  0000997932d777bf  Explanation\\nWhy the edits made under my usern...    0.0\n",
       "1  000103f0d9cfb60f  D'aww! He matches this background colour I'm s...    0.0\n",
       "2  000113f07ec002fd  Hey man, I'm really not trying to edit war. It...    0.0\n",
       "3  0001b41b1c6bb37e  \"\\nMore\\nI can't make any real suggestions on ...    0.0\n",
       "4  0001d958c54c6e35  You, sir, are my hero. Any chance you remember...    0.0"
      ]
     },
     "execution_count": 11,
     "metadata": {},
     "output_type": "execute_result"
    }
   ],
   "source": [
    "train_1 = train_1.loc[:, [\"id\", \"comment_text\", \"score\"]]\n",
    "train_1.head()"
   ]
  },
  {
   "cell_type": "markdown",
   "id": "c33440c6-6f6d-410c-b9c0-ea9ca9db3861",
   "metadata": {},
   "source": [
    "### Add score feature and remove unnecessary columns from train_2"
   ]
  },
  {
   "cell_type": "code",
   "execution_count": 12,
   "id": "b821b65f-7453-4bf9-9f7f-dc51b1691acf",
   "metadata": {},
   "outputs": [],
   "source": [
    "train_2[\"score\"] = train_2[\"target\"]"
   ]
  },
  {
   "cell_type": "code",
   "execution_count": 13,
   "id": "38d24a0a-eb26-4f20-b97b-43e1b82f0d09",
   "metadata": {},
   "outputs": [
    {
     "data": {
      "text/html": [
       "<div>\n",
       "<style scoped>\n",
       "    .dataframe tbody tr th:only-of-type {\n",
       "        vertical-align: middle;\n",
       "    }\n",
       "\n",
       "    .dataframe tbody tr th {\n",
       "        vertical-align: top;\n",
       "    }\n",
       "\n",
       "    .dataframe thead th {\n",
       "        text-align: right;\n",
       "    }\n",
       "</style>\n",
       "<table border=\"1\" class=\"dataframe\">\n",
       "  <thead>\n",
       "    <tr style=\"text-align: right;\">\n",
       "      <th></th>\n",
       "      <th>id</th>\n",
       "      <th>comment_text</th>\n",
       "      <th>score</th>\n",
       "    </tr>\n",
       "  </thead>\n",
       "  <tbody>\n",
       "    <tr>\n",
       "      <th>0</th>\n",
       "      <td>59848</td>\n",
       "      <td>This is so cool. It's like, 'would you want yo...</td>\n",
       "      <td>0.000000</td>\n",
       "    </tr>\n",
       "    <tr>\n",
       "      <th>1</th>\n",
       "      <td>59849</td>\n",
       "      <td>Thank you!! This would make my life a lot less...</td>\n",
       "      <td>0.000000</td>\n",
       "    </tr>\n",
       "    <tr>\n",
       "      <th>2</th>\n",
       "      <td>59852</td>\n",
       "      <td>This is such an urgent design problem; kudos t...</td>\n",
       "      <td>0.000000</td>\n",
       "    </tr>\n",
       "    <tr>\n",
       "      <th>3</th>\n",
       "      <td>59855</td>\n",
       "      <td>Is this something I'll be able to install on m...</td>\n",
       "      <td>0.000000</td>\n",
       "    </tr>\n",
       "    <tr>\n",
       "      <th>4</th>\n",
       "      <td>59856</td>\n",
       "      <td>haha you guys are a bunch of losers.</td>\n",
       "      <td>0.893617</td>\n",
       "    </tr>\n",
       "  </tbody>\n",
       "</table>\n",
       "</div>"
      ],
      "text/plain": [
       "      id                                       comment_text     score\n",
       "0  59848  This is so cool. It's like, 'would you want yo...  0.000000\n",
       "1  59849  Thank you!! This would make my life a lot less...  0.000000\n",
       "2  59852  This is such an urgent design problem; kudos t...  0.000000\n",
       "3  59855  Is this something I'll be able to install on m...  0.000000\n",
       "4  59856               haha you guys are a bunch of losers.  0.893617"
      ]
     },
     "execution_count": 13,
     "metadata": {},
     "output_type": "execute_result"
    }
   ],
   "source": [
    "train_2 = train_2.loc[:, [\"id\", \"comment_text\", \"score\"]]\n",
    "train_2.head()"
   ]
  },
  {
   "cell_type": "markdown",
   "id": "e36640e9-5b7f-4a36-95c4-ccd35deb47be",
   "metadata": {},
   "source": [
    "### Add train_2 to train_1, test_2 to test_1, and ignore duplicate data"
   ]
  },
  {
   "cell_type": "code",
   "execution_count": 14,
   "id": "ed12d3cc-f1fd-4b9e-b404-bd2f36c8fca1",
   "metadata": {},
   "outputs": [],
   "source": [
    "def merge(ds1, ds2):\n",
    "    # Create a set of all unique comment_texts in ds2\n",
    "    ds2_comments_set = set(ds2[\"comment_text\"].str.strip())\n",
    "\n",
    "    # Create a boolean mask for rows in ds2 that should be added to ds1\n",
    "    mask = ~ds2[\"comment_text\"].str.strip().isin(ds1[\"comment_text\"].str.strip())\n",
    "\n",
    "    # Filter rows from ds2 that are not in ds1\n",
    "    rows_to_add = ds2[mask]\n",
    "\n",
    "    # Concatenate the rows_to_add to ds1\n",
    "    ds1 = pd.concat([rows_to_add, ds1], ignore_index=True)\n",
    "\n",
    "    return ds1"
   ]
  },
  {
   "cell_type": "code",
   "execution_count": 15,
   "id": "a5a9ccf4-4469-4ea0-b915-b75da8e3b735",
   "metadata": {},
   "outputs": [
    {
     "data": {
      "text/plain": [
       "(1964294, 3)"
      ]
     },
     "execution_count": 15,
     "metadata": {},
     "output_type": "execute_result"
    }
   ],
   "source": [
    "train = merge(train_1, train_2)\n",
    "train.shape"
   ]
  },
  {
   "cell_type": "code",
   "execution_count": 16,
   "id": "f06ae868-c6d9-4dea-9d68-0fd1dbd74bec",
   "metadata": {},
   "outputs": [
    {
     "data": {
      "text/plain": [
       "(250441, 2)"
      ]
     },
     "execution_count": 16,
     "metadata": {},
     "output_type": "execute_result"
    }
   ],
   "source": [
    "test = merge(test_1, test_2)\n",
    "test.shape"
   ]
  },
  {
   "cell_type": "code",
   "execution_count": 17,
   "id": "62ef9901-7f3d-471b-b5c0-0cccb3d54d47",
   "metadata": {},
   "outputs": [
    {
     "data": {
      "text/html": [
       "<div>\n",
       "<style scoped>\n",
       "    .dataframe tbody tr th:only-of-type {\n",
       "        vertical-align: middle;\n",
       "    }\n",
       "\n",
       "    .dataframe tbody tr th {\n",
       "        vertical-align: top;\n",
       "    }\n",
       "\n",
       "    .dataframe thead th {\n",
       "        text-align: right;\n",
       "    }\n",
       "</style>\n",
       "<table border=\"1\" class=\"dataframe\">\n",
       "  <thead>\n",
       "    <tr style=\"text-align: right;\">\n",
       "      <th></th>\n",
       "      <th>score</th>\n",
       "    </tr>\n",
       "  </thead>\n",
       "  <tbody>\n",
       "    <tr>\n",
       "      <th>0</th>\n",
       "      <td>0.000000</td>\n",
       "    </tr>\n",
       "    <tr>\n",
       "      <th>1</th>\n",
       "      <td>0.000000</td>\n",
       "    </tr>\n",
       "    <tr>\n",
       "      <th>2</th>\n",
       "      <td>0.000000</td>\n",
       "    </tr>\n",
       "    <tr>\n",
       "      <th>3</th>\n",
       "      <td>0.000000</td>\n",
       "    </tr>\n",
       "    <tr>\n",
       "      <th>4</th>\n",
       "      <td>0.893617</td>\n",
       "    </tr>\n",
       "    <tr>\n",
       "      <th>5</th>\n",
       "      <td>0.666667</td>\n",
       "    </tr>\n",
       "    <tr>\n",
       "      <th>6</th>\n",
       "      <td>0.457627</td>\n",
       "    </tr>\n",
       "    <tr>\n",
       "      <th>7</th>\n",
       "      <td>0.000000</td>\n",
       "    </tr>\n",
       "    <tr>\n",
       "      <th>8</th>\n",
       "      <td>0.000000</td>\n",
       "    </tr>\n",
       "    <tr>\n",
       "      <th>9</th>\n",
       "      <td>0.000000</td>\n",
       "    </tr>\n",
       "    <tr>\n",
       "      <th>10</th>\n",
       "      <td>0.000000</td>\n",
       "    </tr>\n",
       "    <tr>\n",
       "      <th>11</th>\n",
       "      <td>0.440000</td>\n",
       "    </tr>\n",
       "    <tr>\n",
       "      <th>12</th>\n",
       "      <td>0.000000</td>\n",
       "    </tr>\n",
       "    <tr>\n",
       "      <th>13</th>\n",
       "      <td>0.600000</td>\n",
       "    </tr>\n",
       "    <tr>\n",
       "      <th>14</th>\n",
       "      <td>0.500000</td>\n",
       "    </tr>\n",
       "    <tr>\n",
       "      <th>15</th>\n",
       "      <td>0.000000</td>\n",
       "    </tr>\n",
       "    <tr>\n",
       "      <th>16</th>\n",
       "      <td>0.000000</td>\n",
       "    </tr>\n",
       "    <tr>\n",
       "      <th>17</th>\n",
       "      <td>0.000000</td>\n",
       "    </tr>\n",
       "    <tr>\n",
       "      <th>18</th>\n",
       "      <td>0.000000</td>\n",
       "    </tr>\n",
       "    <tr>\n",
       "      <th>19</th>\n",
       "      <td>0.500000</td>\n",
       "    </tr>\n",
       "  </tbody>\n",
       "</table>\n",
       "</div>"
      ],
      "text/plain": [
       "       score\n",
       "0   0.000000\n",
       "1   0.000000\n",
       "2   0.000000\n",
       "3   0.000000\n",
       "4   0.893617\n",
       "5   0.666667\n",
       "6   0.457627\n",
       "7   0.000000\n",
       "8   0.000000\n",
       "9   0.000000\n",
       "10  0.000000\n",
       "11  0.440000\n",
       "12  0.000000\n",
       "13  0.600000\n",
       "14  0.500000\n",
       "15  0.000000\n",
       "16  0.000000\n",
       "17  0.000000\n",
       "18  0.000000\n",
       "19  0.500000"
      ]
     },
     "execution_count": 17,
     "metadata": {},
     "output_type": "execute_result"
    }
   ],
   "source": [
    "train[[\"score\"]].head(20)"
   ]
  },
  {
   "cell_type": "code",
   "execution_count": 18,
   "id": "9bb744ff-8a08-4848-bbfd-08f92c05ee85",
   "metadata": {},
   "outputs": [],
   "source": [
    "train[\"target\"] = train[\"score\"].apply(lambda x: 1 if x >= 0.4 else 0)"
   ]
  },
  {
   "cell_type": "code",
   "execution_count": 19,
   "id": "e9c6e0de-f80c-4e74-8002-c7baacc19550",
   "metadata": {},
   "outputs": [],
   "source": [
    "toxic = train.loc[train[\"target\"] == 1]\n",
    "not_toxic = train.loc[train[\"target\"] == 0]"
   ]
  },
  {
   "cell_type": "code",
   "execution_count": 20,
   "id": "8caa4ab3-50c6-4e9f-b13b-58186fec6ba5",
   "metadata": {},
   "outputs": [
    {
     "data": {
      "text/plain": [
       "(217342, 4)"
      ]
     },
     "execution_count": 20,
     "metadata": {},
     "output_type": "execute_result"
    }
   ],
   "source": [
    "toxic.shape"
   ]
  },
  {
   "cell_type": "code",
   "execution_count": 21,
   "id": "b3c1b3f9-4596-45bc-84ea-d405e1ac9f4b",
   "metadata": {},
   "outputs": [
    {
     "data": {
      "text/plain": [
       "(1746952, 4)"
      ]
     },
     "execution_count": 21,
     "metadata": {},
     "output_type": "execute_result"
    }
   ],
   "source": [
    "not_toxic.shape"
   ]
  },
  {
   "cell_type": "markdown",
   "id": "4c709131-47ac-42de-82be-8abe4f63e077",
   "metadata": {},
   "source": [
    "### Make sure comment_text is lowercase"
   ]
  },
  {
   "cell_type": "code",
   "execution_count": 22,
   "id": "26b405ef-6e28-4478-a099-abc780a51d06",
   "metadata": {},
   "outputs": [],
   "source": [
    "train.loc[:, \"comment_text\"] = train[\"comment_text\"].str.lower()\n",
    "test.loc[:, \"comment_text\"] = test[\"comment_text\"].str.lower()"
   ]
  },
  {
   "cell_type": "markdown",
   "id": "234d0c22-c964-406e-8885-ca067cc067ad",
   "metadata": {},
   "source": [
    "### Drop any row that comment_text is empty"
   ]
  },
  {
   "cell_type": "code",
   "execution_count": 23,
   "id": "702a2f87-5d61-43cb-9b47-585f89c832b1",
   "metadata": {},
   "outputs": [],
   "source": [
    "train = train.dropna(subset=\"comment_text\", how='any',axis=0)"
   ]
  },
  {
   "cell_type": "markdown",
   "id": "2270423d-ee7c-44dc-8d5f-1c0ec78b39ff",
   "metadata": {},
   "source": [
    "### Replacing contractions"
   ]
  },
  {
   "cell_type": "code",
   "execution_count": 24,
   "id": "aba966ec-e97a-4fe3-b793-8e797a4b469f",
   "metadata": {},
   "outputs": [],
   "source": [
    "import contractions"
   ]
  },
  {
   "cell_type": "code",
   "execution_count": 25,
   "id": "750de685-34ef-466c-8b96-3977c57a72da",
   "metadata": {},
   "outputs": [],
   "source": [
    "train.loc[:, \"comment_text\"] = train[\"comment_text\"].apply(lambda x: contractions.fix(str(x)))\n",
    "test.loc[:, \"comment_text\"] = test[\"comment_text\"].apply(lambda x: contractions.fix(str(x)))"
   ]
  },
  {
   "cell_type": "code",
   "execution_count": 26,
   "id": "22c1b49e-5c58-4865-a799-d75a5e87dbe2",
   "metadata": {},
   "outputs": [
    {
     "data": {
      "text/html": [
       "<div>\n",
       "<style scoped>\n",
       "    .dataframe tbody tr th:only-of-type {\n",
       "        vertical-align: middle;\n",
       "    }\n",
       "\n",
       "    .dataframe tbody tr th {\n",
       "        vertical-align: top;\n",
       "    }\n",
       "\n",
       "    .dataframe thead th {\n",
       "        text-align: right;\n",
       "    }\n",
       "</style>\n",
       "<table border=\"1\" class=\"dataframe\">\n",
       "  <thead>\n",
       "    <tr style=\"text-align: right;\">\n",
       "      <th></th>\n",
       "      <th>id</th>\n",
       "      <th>comment_text</th>\n",
       "      <th>score</th>\n",
       "      <th>target</th>\n",
       "    </tr>\n",
       "  </thead>\n",
       "  <tbody>\n",
       "    <tr>\n",
       "      <th>0</th>\n",
       "      <td>59848</td>\n",
       "      <td>this is so cool. it is like, 'would you want y...</td>\n",
       "      <td>0.000000</td>\n",
       "      <td>0</td>\n",
       "    </tr>\n",
       "    <tr>\n",
       "      <th>1</th>\n",
       "      <td>59849</td>\n",
       "      <td>thank you!! this would make my life a lot less...</td>\n",
       "      <td>0.000000</td>\n",
       "      <td>0</td>\n",
       "    </tr>\n",
       "    <tr>\n",
       "      <th>2</th>\n",
       "      <td>59852</td>\n",
       "      <td>this is such an urgent design problem; kudos t...</td>\n",
       "      <td>0.000000</td>\n",
       "      <td>0</td>\n",
       "    </tr>\n",
       "    <tr>\n",
       "      <th>3</th>\n",
       "      <td>59855</td>\n",
       "      <td>is this something i will be able to install on...</td>\n",
       "      <td>0.000000</td>\n",
       "      <td>0</td>\n",
       "    </tr>\n",
       "    <tr>\n",
       "      <th>4</th>\n",
       "      <td>59856</td>\n",
       "      <td>haha you guys are a bunch of losers.</td>\n",
       "      <td>0.893617</td>\n",
       "      <td>1</td>\n",
       "    </tr>\n",
       "  </tbody>\n",
       "</table>\n",
       "</div>"
      ],
      "text/plain": [
       "      id                                       comment_text     score  target\n",
       "0  59848  this is so cool. it is like, 'would you want y...  0.000000       0\n",
       "1  59849  thank you!! this would make my life a lot less...  0.000000       0\n",
       "2  59852  this is such an urgent design problem; kudos t...  0.000000       0\n",
       "3  59855  is this something i will be able to install on...  0.000000       0\n",
       "4  59856               haha you guys are a bunch of losers.  0.893617       1"
      ]
     },
     "execution_count": 26,
     "metadata": {},
     "output_type": "execute_result"
    }
   ],
   "source": [
    "train.head()"
   ]
  },
  {
   "cell_type": "markdown",
   "id": "740e7455-786e-4924-abc7-afc7065d2b84",
   "metadata": {},
   "source": [
    "### Removing URLs"
   ]
  },
  {
   "cell_type": "code",
   "execution_count": 27,
   "id": "ee15898a-c7ec-4a85-909b-1501a0e3495f",
   "metadata": {},
   "outputs": [],
   "source": [
    "import re"
   ]
  },
  {
   "cell_type": "code",
   "execution_count": 28,
   "id": "48669e7d-7077-41a3-bb19-5963adb793e0",
   "metadata": {},
   "outputs": [],
   "source": [
    "def remove_URL(text):\n",
    "    \"\"\"\n",
    "        Remove URLs from a sample string\n",
    "    \"\"\"\n",
    "    return re.sub(r\"https?://\\S+|www\\.\\S+\", \"\", text)"
   ]
  },
  {
   "cell_type": "code",
   "execution_count": 29,
   "id": "eed9b349-72ab-43de-8931-59e742b95610",
   "metadata": {},
   "outputs": [],
   "source": [
    "train.loc[:, \"comment_text\"] = train[\"comment_text\"].apply(lambda x: remove_URL(x))\n",
    "test.loc[:, \"comment_text\"] = test[\"comment_text\"].apply(lambda x: remove_URL(x))"
   ]
  },
  {
   "cell_type": "markdown",
   "id": "c9dc4d84-2742-405d-90f0-cc0543fa439a",
   "metadata": {},
   "source": [
    "### Removing HTML Tags"
   ]
  },
  {
   "cell_type": "code",
   "execution_count": 30,
   "id": "84874582-024c-4b3d-bb4b-e721b1b7e813",
   "metadata": {},
   "outputs": [],
   "source": [
    "def remove_html(text):\n",
    "    \"\"\"\n",
    "        Remove the html in sample text\n",
    "    \"\"\"\n",
    "    html = re.compile(r\"<.*?>|&([a-z0-9]+|#[0-9]{1,6}|#x[0-9a-f]{1,6});\")\n",
    "    return re.sub(html, \"\", text)"
   ]
  },
  {
   "cell_type": "code",
   "execution_count": 31,
   "id": "2dbb97c0-6439-461e-90be-5a0d8fb0aa7a",
   "metadata": {},
   "outputs": [],
   "source": [
    "train.loc[:, \"comment_text\"] = train[\"comment_text\"].apply(lambda x: remove_html(x))\n",
    "test.loc[:, \"comment_text\"] = test[\"comment_text\"].apply(lambda x: remove_html(x))"
   ]
  },
  {
   "cell_type": "markdown",
   "id": "c0048b9f-f4ce-472e-9efe-966016e3d678",
   "metadata": {},
   "source": [
    "### Remove non-ascii characters (since we are only concerned with English, and basic "
   ]
  },
  {
   "cell_type": "code",
   "execution_count": 32,
   "id": "7eaad8b0-b180-4047-a555-0a5ed03ee630",
   "metadata": {},
   "outputs": [],
   "source": [
    "def remove_non_ascii(text):\n",
    "    \"\"\"\n",
    "        Remove non-ASCII characters\n",
    "    \"\"\"\n",
    "    return re.sub(r'[^\\x00-\\x7f]',r'', text)"
   ]
  },
  {
   "cell_type": "code",
   "execution_count": 33,
   "id": "752a487b-1bd1-41e4-aa6b-d635299e3195",
   "metadata": {},
   "outputs": [],
   "source": [
    "train.loc[:, \"comment_text\"] = train[\"comment_text\"].apply(lambda x: remove_non_ascii(x))\n",
    "test.loc[:, \"comment_text\"] = test[\"comment_text\"].apply(lambda x: remove_non_ascii(x))"
   ]
  },
  {
   "cell_type": "markdown",
   "id": "2f043578-8e1d-4145-812c-c50a6d2f0138",
   "metadata": {},
   "source": [
    "## We put test data through the cleaning process, because when we use the model, we will also clean the data first before putting it through the model."
   ]
  },
  {
   "cell_type": "code",
   "execution_count": 34,
   "id": "4ff5b456-5b7d-4d5f-93be-d17a72688d74",
   "metadata": {},
   "outputs": [],
   "source": [
    "import matplotlib.pyplot as plt\n",
    "import numpy as np"
   ]
  },
  {
   "cell_type": "code",
   "execution_count": 35,
   "id": "951e19d0-a9f5-4995-8d3f-4429040c51ab",
   "metadata": {},
   "outputs": [
    {
     "data": {
      "text/plain": [
       "(array([0.88935346, 0.        , 0.        , 0.        , 0.        ,\n",
       "        0.        , 0.        , 0.        , 0.        , 0.11064654]),\n",
       " array([0. , 0.1, 0.2, 0.3, 0.4, 0.5, 0.6, 0.7, 0.8, 0.9, 1. ]),\n",
       " <BarContainer object of 10 artists>)"
      ]
     },
     "execution_count": 35,
     "metadata": {},
     "output_type": "execute_result"
    },
    {
     "data": {
      "image/png": "[encoded data removed]",
      "text/plain": [
       "<Figure size 640x480 with 1 Axes>"
      ]
     },
     "metadata": {},
     "output_type": "display_data"
    }
   ],
   "source": [
    "target = train[\"target\"]\n",
    "plt.hist(target)\n",
    "weights = np.ones_like(target)/len(target)\n",
    "plt.hist(target, weights=weights)"
   ]
  },
  {
   "cell_type": "code",
   "execution_count": 36,
   "id": "7293240c-28b6-48e1-85e2-1a4ddb1919ce",
   "metadata": {},
   "outputs": [],
   "source": [
    "train = pd.concat([toxic, not_toxic.sample(220_000, random_state=53)])"
   ]
  },
  {
   "cell_type": "code",
   "execution_count": 37,
   "id": "2d6fff8b-5c11-404c-a2f8-71d07170d1b9",
   "metadata": {},
   "outputs": [
    {
     "data": {
      "text/plain": [
       "(array([0.50303881, 0.        , 0.        , 0.        , 0.        ,\n",
       "        0.        , 0.        , 0.        , 0.        , 0.49696119]),\n",
       " array([0. , 0.1, 0.2, 0.3, 0.4, 0.5, 0.6, 0.7, 0.8, 0.9, 1. ]),\n",
       " <BarContainer object of 10 artists>)"
      ]
     },
     "execution_count": 37,
     "metadata": {},
     "output_type": "execute_result"
    },
    {
     "data": {
      "image/png": "[encoded data removed]",
      "text/plain": [
       "<Figure size 640x480 with 1 Axes>"
      ]
     },
     "metadata": {},
     "output_type": "display_data"
    }
   ],
   "source": [
    "target = train[\"target\"]\n",
    "plt.hist(target)\n",
    "weights = np.ones_like(target)/len(target)\n",
    "plt.hist(target, weights=weights)"
   ]
  },
  {
   "cell_type": "code",
   "execution_count": null,
   "id": "c4439d0e-317c-42f6-b78f-b32d5877b68e",
   "metadata": {},
   "outputs": [],
   "source": []
  },
  {
   "cell_type": "code",
   "execution_count": null,
   "id": "b1780d1e-eb6c-447c-ad6d-d85ec2f4177d",
   "metadata": {},
   "outputs": [],
   "source": []
  },
  {
   "cell_type": "code",
   "execution_count": 38,
   "id": "24d9a647-62cf-46ad-8081-65d4ea18f59c",
   "metadata": {},
   "outputs": [],
   "source": [
    "# x_train_combined(\"../dataset/processed/tmp_text.csv\")\n",
    "# y_train_combined(\"../dataset/processed/tmp_target.csv\")\n",
    "train.to_csv(\"../dataset/processed/train.csv\")\n",
    "test.to_csv(\"../dataset/processed/test.csv\")"
   ]
  },
  {
   "cell_type": "code",
   "execution_count": null,
   "id": "cfe34fcd-efa0-4e20-a074-b176b20c0346",
   "metadata": {},
   "outputs": [],
   "source": []
  },
  {
   "cell_type": "code",
   "execution_count": null,
   "id": "fcb7cf4b-413a-47b9-af79-95accf35cda8",
   "metadata": {},
   "outputs": [],
   "source": []
  }
 ],
 "metadata": {
  "kernelspec": {
   "display_name": "Python 3 (ipykernel)",
   "language": "python",
   "name": "python3"
  },
  "language_info": {
   "codemirror_mode": {
    "name": "ipython",
    "version": 3
   },
   "file_extension": ".py",
   "mimetype": "text/x-python",
   "name": "python",
   "nbconvert_exporter": "python",
   "pygments_lexer": "ipython3",
   "version": "3.11.7"
  }
 },
 "nbformat": 4,
 "nbformat_minor": 5
}
