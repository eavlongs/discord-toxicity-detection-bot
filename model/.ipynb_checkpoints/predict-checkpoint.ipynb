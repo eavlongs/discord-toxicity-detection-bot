{
 "cells": [
  {
   "cell_type": "code",
   "execution_count": 1,
   "id": "acfa5ffa-e5e4-4041-be6e-9966680b96e1",
   "metadata": {},
   "outputs": [],
   "source": [
    "import pandas as pd\n",
    "from sklearn.model_selection import train_test_split\n",
    "import torch\n",
    "import pytorch_lightning as pl\n",
    "from torchmetrics.functional.classification import auroc\n",
    "import torch.nn.functional as F\n",
    "import numpy as np\n",
    "from ToxicityDataModule import ToxicityDataModule, max_token_len\n",
    "from ToxicityClassifier import ToxicityClassifier\n",
    "import json"
   ]
  },
  {
   "cell_type": "code",
   "execution_count": 3,
   "id": "020a8801-178a-4538-bba7-bdbde0636050",
   "metadata": {},
   "outputs": [],
   "source": [
    "\n",
    "    data_path = \"./dataset/processed/train.csv\"\n",
    "    ds = pd.read_csv(data_path, dtype={\"id\": str})\n",
    "    print(\"loaded data\")\n",
    "\n",
    "    X = ds[\"comment_text\"]\n",
    "    y = ds[\"score\"]\n",
    "    X, _, y, _ = train_test_split(X, y, test_size=0.7, random_state=103)\n",
    "    X_train, X_test, y_train, y_test = train_test_split(X, y, test_size=0.2, random_state=103)\n",
    "    train_ds = pd.DataFrame({\"comment_text\": X_train, \"score\": y_train})\n",
    "    val_ds = pd.DataFrame({\"comment_text\": X_test, \"score\": y_test})\n",
    "\n",
    "\n",
    "    tmp_data_module = ToxicityDataModule(train_ds, val_ds, max_token_len, model_name = \"roberta-base\", batch_size=128)\n",
    "\n",
    "    tmp_data_module.setup()\n",
    "    print(\"setup data module\")\n",
    "\n",
    "    config = json.load(open(\"config.json\"))\n",
    "\n",
    "    data_module = ToxicityDataModule(train_ds, val_ds, max_token_len, model_name = config[\"model_name\"], batch_size = config[\"batch_size\"])\n",
    "    data_module.setup()\n",
    "\n",
    "    trainer = pl.Trainer(max_epochs=config[\"n_epochs\"], num_sanity_val_steps=2, logger = True, enable_progress_bar = True, num_nodes = 1)\n",
    "    model = ToxicityClassifier(config)\n",
    "    model.to(\"cuda\")\n",
    "\n",
    "    model.load_state_dict(torch.load(\"./trained/v1.pth\"))\n",
    "\n",
    "    def predict_toxicity(model, data_module):\n",
    "        predictions = trainer.predict(model, datamodule=data_module)\n",
    "        flattened_predictions = np.stack([torch.sigmoid(torch.Tensor(p)) for batch in predictions for p in batch])\n",
    "        return flattened_predictions\n",
    "\n",
    "    predictions = predict_toxicity(model, data_module)\n",
    "    print(predictions)"
   ]
  },
  {
   "cell_type": "code",
   "execution_count": null,
   "id": "0c42abb1-0222-4e7f-a449-c5bfe0da7a73",
   "metadata": {},
   "outputs": [],
   "source": []
  }
 ],
 "metadata": {
  "kernelspec": {
   "display_name": "Python 3 (ipykernel)",
   "language": "python",
   "name": "python3"
  },
  "language_info": {
   "codemirror_mode": {
    "name": "ipython",
    "version": 3
   },
   "file_extension": ".py",
   "mimetype": "text/x-python",
   "name": "python",
   "nbconvert_exporter": "python",
   "pygments_lexer": "ipython3",
   "version": "3.11.7"
  }
 },
 "nbformat": 4,
 "nbformat_minor": 5
}
