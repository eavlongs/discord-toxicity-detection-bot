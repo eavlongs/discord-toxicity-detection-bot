{
 "cells": [
  {
   "cell_type": "code",
   "execution_count": 1,
   "id": "b46526f3-8e49-4fc8-9474-1fac0a6ccb93",
   "metadata": {},
   "outputs": [],
   "source": [
    "import pandas as pd\n",
    "import matplotlib.pyplot as plt\n",
    "import numpy as np"
   ]
  },
  {
   "cell_type": "code",
   "execution_count": 2,
   "id": "e58a69b4-707e-4165-99b6-43c80a7c5af8",
   "metadata": {},
   "outputs": [],
   "source": [
    "# Load the dataset\n",
    "data_path = \"./dataset/processed/train.csv\"\n",
    "df = pd.read_csv(data_path, dtype={\"id\": str})\n",
    "\n",
    "# Preprocess the dataset\n",
    "df['comment_text'] = df['comment_text'].astype(str)\n",
    "df['score'] = df['score'].astype(int)"
   ]
  },
  {
   "cell_type": "code",
   "execution_count": 3,
   "id": "d6260145-5ee1-42f0-b0d6-9d75dd2d2bc4",
   "metadata": {},
   "outputs": [
    {
     "data": {
      "text/plain": [
       "(array([0.71715087, 0.01109306, 0.12706569, 0.03249315, 0.03182319,\n",
       "        0.02342576, 0.01927362, 0.01393785, 0.0133916 , 0.01034521]),\n",
       " array([ 0.,  1.,  2.,  3.,  4.,  5.,  6.,  7.,  8.,  9., 10.]),\n",
       " <BarContainer object of 10 artists>)"
      ]
     },
     "execution_count": 3,
     "metadata": {},
     "output_type": "execute_result"
    },
    {
     "data": {
      "image/png": "[encoded data removed]",
      "text/plain": [
       "<Figure size 640x480 with 1 Axes>"
      ]
     },
     "metadata": {},
     "output_type": "display_data"
    }
   ],
   "source": [
    "score = df[\"score\"]\n",
    "plt.hist(score, bins = 30, align = 'right')\n",
    "weights = np.ones_like(score)/len(score)\n",
    "plt.hist(score, weights=weights)"
   ]
  },
  {
   "cell_type": "code",
   "execution_count": 4,
   "id": "5d6362a7-db6f-4501-9397-940bdf596a23",
   "metadata": {},
   "outputs": [],
   "source": [
    "not_toxic = df.loc[df[\"score\"] == 0]\n",
    "level_2_toxic = df.loc[df[\"score\"] == 2]\n",
    "level_1_toxic = df.loc[df[\"score\"] == 1]\n",
    "higher_than_2_toxic = df.loc[df[\"score\"] > 2]\n",
    "nine_and_ten = df.loc[df[\"score\"] >= 9]"
   ]
  },
  {
   "cell_type": "code",
   "execution_count": 5,
   "id": "2caa390d-ef6f-4fba-aae6-96cb3fca7ef4",
   "metadata": {},
   "outputs": [],
   "source": [
    "df = pd.concat([not_toxic.sample(60_000, random_state=53), level_2_toxic.sample(65_000, random_state=53), level_1_toxic, higher_than_2_toxic, ni])"
   ]
  },
  {
   "cell_type": "code",
   "execution_count": 6,
   "id": "cf26fcb6-7fe2-4d0f-9c3c-9dc74e5798f2",
   "metadata": {},
   "outputs": [],
   "source": [
    "df['target'] = np.nan\n",
    "\n",
    "# Assign 0 to 'target' for non-toxic scores\n",
    "df.loc[df['score'] < 4, 'target'] = 0\n",
    "\n",
    "# Assign 1 to 'target' for toxic scores\n",
    "df.loc[df['score'] >= 4, 'target'] = 1\n",
    "\n",
    "# Split the DataFrame into not_toxic_at_all and toxic\n",
    "not_toxic_at_all = df.loc[df['target'] == 0]\n",
    "toxic = df.loc[df['target'] == 1]\n",
    "\n",
    "df = pd.concat([not_toxic_at_all, toxic])"
   ]
  },
  {
   "cell_type": "code",
   "execution_count": 7,
   "id": "fbb62294-8dff-400f-8401-2722cee4ab79",
   "metadata": {},
   "outputs": [
    {
     "data": {
      "text/html": [
       "<div>\n",
       "<style scoped>\n",
       "    .dataframe tbody tr th:only-of-type {\n",
       "        vertical-align: middle;\n",
       "    }\n",
       "\n",
       "    .dataframe tbody tr th {\n",
       "        vertical-align: top;\n",
       "    }\n",
       "\n",
       "    .dataframe thead th {\n",
       "        text-align: right;\n",
       "    }\n",
       "</style>\n",
       "<table border=\"1\" class=\"dataframe\">\n",
       "  <thead>\n",
       "    <tr style=\"text-align: right;\">\n",
       "      <th></th>\n",
       "      <th>Unnamed: 0</th>\n",
       "      <th>id</th>\n",
       "      <th>comment_text</th>\n",
       "      <th>score</th>\n",
       "      <th>target</th>\n",
       "    </tr>\n",
       "  </thead>\n",
       "  <tbody>\n",
       "    <tr>\n",
       "      <th>637755</th>\n",
       "      <td>637756</td>\n",
       "      <td>1022135</td>\n",
       "      <td>i hope the \"god\" james believes in does not ne...</td>\n",
       "      <td>4</td>\n",
       "      <td>1.0</td>\n",
       "    </tr>\n",
       "    <tr>\n",
       "      <th>1515212</th>\n",
       "      <td>1515215</td>\n",
       "      <td>5975571</td>\n",
       "      <td>how convenient that gardner has forgotten that...</td>\n",
       "      <td>2</td>\n",
       "      <td>0.0</td>\n",
       "    </tr>\n",
       "    <tr>\n",
       "      <th>87595</th>\n",
       "      <td>87595</td>\n",
       "      <td>349677</td>\n",
       "      <td>good points made, but they will fall on deaf e...</td>\n",
       "      <td>5</td>\n",
       "      <td>1.0</td>\n",
       "    </tr>\n",
       "    <tr>\n",
       "      <th>961017</th>\n",
       "      <td>961018</td>\n",
       "      <td>5293958</td>\n",
       "      <td>here is the problem - we are now creating a cu...</td>\n",
       "      <td>1</td>\n",
       "      <td>0.0</td>\n",
       "    </tr>\n",
       "    <tr>\n",
       "      <th>1549210</th>\n",
       "      <td>1549213</td>\n",
       "      <td>6018043</td>\n",
       "      <td>how do you live in such a negative head..........</td>\n",
       "      <td>4</td>\n",
       "      <td>1.0</td>\n",
       "    </tr>\n",
       "    <tr>\n",
       "      <th>...</th>\n",
       "      <td>...</td>\n",
       "      <td>...</td>\n",
       "      <td>...</td>\n",
       "      <td>...</td>\n",
       "      <td>...</td>\n",
       "    </tr>\n",
       "    <tr>\n",
       "      <th>1414947</th>\n",
       "      <td>1414949</td>\n",
       "      <td>5848426</td>\n",
       "      <td>i nominate wiliki for the. \"\"pinocchio\" award.</td>\n",
       "      <td>4</td>\n",
       "      <td>1.0</td>\n",
       "    </tr>\n",
       "    <tr>\n",
       "      <th>1692436</th>\n",
       "      <td>1692439</td>\n",
       "      <td>6197222</td>\n",
       "      <td>muslim women an easy political target?\\n\\ninn...</td>\n",
       "      <td>6</td>\n",
       "      <td>1.0</td>\n",
       "    </tr>\n",
       "    <tr>\n",
       "      <th>1635979</th>\n",
       "      <td>1635982</td>\n",
       "      <td>6126526</td>\n",
       "      <td>why is this news, who the heck cares what he t...</td>\n",
       "      <td>3</td>\n",
       "      <td>0.0</td>\n",
       "    </tr>\n",
       "    <tr>\n",
       "      <th>1684406</th>\n",
       "      <td>1684409</td>\n",
       "      <td>6186928</td>\n",
       "      <td>the most dangerous place to be in hawaii is st...</td>\n",
       "      <td>4</td>\n",
       "      <td>1.0</td>\n",
       "    </tr>\n",
       "    <tr>\n",
       "      <th>418131</th>\n",
       "      <td>418131</td>\n",
       "      <td>754831</td>\n",
       "      <td>i see you resort to anger and foolish statemen...</td>\n",
       "      <td>7</td>\n",
       "      <td>1.0</td>\n",
       "    </tr>\n",
       "  </tbody>\n",
       "</table>\n",
       "<p>431004 rows × 5 columns</p>\n",
       "</div>"
      ],
      "text/plain": [
       "         Unnamed: 0       id  \\\n",
       "637755       637756  1022135   \n",
       "1515212     1515215  5975571   \n",
       "87595         87595   349677   \n",
       "961017       961018  5293958   \n",
       "1549210     1549213  6018043   \n",
       "...             ...      ...   \n",
       "1414947     1414949  5848426   \n",
       "1692436     1692439  6197222   \n",
       "1635979     1635982  6126526   \n",
       "1684406     1684409  6186928   \n",
       "418131       418131   754831   \n",
       "\n",
       "                                              comment_text  score  target  \n",
       "637755   i hope the \"god\" james believes in does not ne...      4     1.0  \n",
       "1515212  how convenient that gardner has forgotten that...      2     0.0  \n",
       "87595    good points made, but they will fall on deaf e...      5     1.0  \n",
       "961017   here is the problem - we are now creating a cu...      1     0.0  \n",
       "1549210  how do you live in such a negative head..........      4     1.0  \n",
       "...                                                    ...    ...     ...  \n",
       "1414947     i nominate wiliki for the. \"\"pinocchio\" award.      4     1.0  \n",
       "1692436   muslim women an easy political target?\\n\\ninn...      6     1.0  \n",
       "1635979  why is this news, who the heck cares what he t...      3     0.0  \n",
       "1684406  the most dangerous place to be in hawaii is st...      4     1.0  \n",
       "418131   i see you resort to anger and foolish statemen...      7     1.0  \n",
       "\n",
       "[431004 rows x 5 columns]"
      ]
     },
     "execution_count": 7,
     "metadata": {},
     "output_type": "execute_result"
    }
   ],
   "source": [
    "# shuffle data\n",
    "df.sample(frac=1)"
   ]
  },
  {
   "cell_type": "code",
   "execution_count": 29,
   "id": "9b70caca-652c-4d99-90b2-4688d2e26bb7",
   "metadata": {},
   "outputs": [
    {
     "data": {
      "text/plain": [
       "(array([0.48866368, 0.        , 0.        , 0.        , 0.        ,\n",
       "        0.        , 0.        , 0.        , 0.        , 0.51133632]),\n",
       " array([0. , 0.1, 0.2, 0.3, 0.4, 0.5, 0.6, 0.7, 0.8, 0.9, 1. ]),\n",
       " <BarContainer object of 10 artists>)"
      ]
     },
     "execution_count": 29,
     "metadata": {},
     "output_type": "execute_result"
    },
    {
     "data": {
      "image/png": "[encoded data removed]",
      "text/plain": [
       "<Figure size 640x480 with 1 Axes>"
      ]
     },
     "metadata": {},
     "output_type": "display_data"
    }
   ],
   "source": [
    "target = df[\"target\"]\n",
    "plt.hist(target)\n",
    "weights = np.ones_like(target)/len(target)\n",
    "plt.hist(target, weights=weights)"
   ]
  },
  {
   "cell_type": "code",
   "execution_count": 27,
   "id": "3e128c02-f49a-4c3f-a559-5b2b411c8450",
   "metadata": {},
   "outputs": [
    {
     "data": {
      "text/plain": [
       "(210616, 5)"
      ]
     },
     "execution_count": 27,
     "metadata": {},
     "output_type": "execute_result"
    }
   ],
   "source": [
    "tmp = df.loc[df[\"target\"] == 0]\n",
    "tmp.shape"
   ]
  },
  {
   "cell_type": "code",
   "execution_count": 25,
   "id": "57150280-76a2-40ba-aa24-6800d2ec04a9",
   "metadata": {},
   "outputs": [
    {
     "data": {
      "text/plain": [
       "array([0., 1.])"
      ]
     },
     "execution_count": 25,
     "metadata": {},
     "output_type": "execute_result"
    }
   ],
   "source": [
    "df[\"target\"].unique()"
   ]
  },
  {
   "cell_type": "code",
   "execution_count": 13,
   "id": "bc49ff82-cac1-4e5d-b7c9-4e62998c930a",
   "metadata": {},
   "outputs": [],
   "source": [
    "from sklearn.model_selection import train_test_split"
   ]
  },
  {
   "cell_type": "code",
   "execution_count": 10,
   "id": "52d79d3c-2ea4-47f2-8e4e-0f41ac6bd43e",
   "metadata": {},
   "outputs": [],
   "source": [
    "train_df, val_df = train_test_split(df, test_size=0.2, random_state=42)"
   ]
  },
  {
   "cell_type": "code",
   "execution_count": 11,
   "id": "f1178647-b735-4802-b926-52b6f1e30183",
   "metadata": {},
   "outputs": [
    {
     "data": {
      "text/plain": [
       "(344803, 5)"
      ]
     },
     "execution_count": 11,
     "metadata": {},
     "output_type": "execute_result"
    }
   ],
   "source": [
    "train_df.shape"
   ]
  },
  {
   "cell_type": "code",
   "execution_count": null,
   "id": "a50bb367-6da8-475b-bb03-e542e605efcc",
   "metadata": {},
   "outputs": [],
   "source": []
  }
 ],
 "metadata": {
  "kernelspec": {
   "display_name": "Python 3 (ipykernel)",
   "language": "python",
   "name": "python3"
  },
  "language_info": {
   "codemirror_mode": {
    "name": "ipython",
    "version": 3
   },
   "file_extension": ".py",
   "mimetype": "text/x-python",
   "name": "python",
   "nbconvert_exporter": "python",
   "pygments_lexer": "ipython3",
   "version": "3.12.1"
  }
 },
 "nbformat": 4,
 "nbformat_minor": 5
}
