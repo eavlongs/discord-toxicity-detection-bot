{
 "cells": [
  {
   "cell_type": "code",
   "execution_count": 6,
   "id": "b46526f3-8e49-4fc8-9474-1fac0a6ccb93",
   "metadata": {},
   "outputs": [],
   "source": [
    "import pandas as pd\n",
    "import matplotlib.pyplot as plt\n",
    "import numpy as np"
   ]
  },
  {
   "cell_type": "code",
   "execution_count": 7,
   "id": "e58a69b4-707e-4165-99b6-43c80a7c5af8",
   "metadata": {},
   "outputs": [],
   "source": [
    "# Load the dataset\n",
    "data_path = \"./dataset/processed/train.csv\"\n",
    "df = pd.read_csv(data_path, dtype={\"id\": str})\n",
    "\n",
    "# Preprocess the dataset\n",
    "df['comment_text'] = df['comment_text'].astype(str)\n",
    "df['score'] = df['score'].astype(int)"
   ]
  },
  {
   "cell_type": "code",
   "execution_count": 8,
   "id": "d6260145-5ee1-42f0-b0d6-9d75dd2d2bc4",
   "metadata": {},
   "outputs": [
    {
     "data": {
      "text/plain": [
       "(array([0.71715087, 0.01109306, 0.12706569, 0.03249315, 0.03182319,\n",
       "        0.02342576, 0.01927362, 0.01393785, 0.0133916 , 0.01034521]),\n",
       " array([ 0.,  1.,  2.,  3.,  4.,  5.,  6.,  7.,  8.,  9., 10.]),\n",
       " <BarContainer object of 10 artists>)"
      ]
     },
     "execution_count": 8,
     "metadata": {},
     "output_type": "execute_result"
    },
    {
     "data": {
      "image/png": "[encoded data removed]",
      "text/plain": [
       "<Figure size 640x480 with 1 Axes>"
      ]
     },
     "metadata": {},
     "output_type": "display_data"
    }
   ],
   "source": [
    "score = df[\"score\"]\n",
    "plt.hist(score, bins = 30, align = 'right')\n",
    "weights = np.ones_like(score)/len(score)\n",
    "plt.hist(score, weights=weights)"
   ]
  },
  {
   "cell_type": "code",
   "execution_count": 16,
   "id": "5d6362a7-db6f-4501-9397-940bdf596a23",
   "metadata": {},
   "outputs": [],
   "source": [
    "not_toxic = df.loc[df[\"score\"] == 0]\n",
    "level_2_toxic = df.loc[df[\"score\"] == 2]\n",
    "level_1_toxic = df.loc[df[\"score\"] == 1]\n",
    "higher_than_2_toxic = df.loc[df[\"score\"] > 2]"
   ]
  },
  {
   "cell_type": "code",
   "execution_count": 21,
   "id": "2caa390d-ef6f-4fba-aae6-96cb3fca7ef4",
   "metadata": {},
   "outputs": [],
   "source": [
    "df = pd.concat([not_toxic.sample(100_000, random_state=53), level_2_toxic.sample(80_000, random_state=53), level_1_toxic, higher_than_2_toxic])"
   ]
  },
  {
   "cell_type": "code",
   "execution_count": 22,
   "id": "fbb62294-8dff-400f-8401-2722cee4ab79",
   "metadata": {},
   "outputs": [
    {
     "data": {
      "text/html": [
       "<div>\n",
       "<style scoped>\n",
       "    .dataframe tbody tr th:only-of-type {\n",
       "        vertical-align: middle;\n",
       "    }\n",
       "\n",
       "    .dataframe tbody tr th {\n",
       "        vertical-align: top;\n",
       "    }\n",
       "\n",
       "    .dataframe thead th {\n",
       "        text-align: right;\n",
       "    }\n",
       "</style>\n",
       "<table border=\"1\" class=\"dataframe\">\n",
       "  <thead>\n",
       "    <tr style=\"text-align: right;\">\n",
       "      <th></th>\n",
       "      <th>Unnamed: 0</th>\n",
       "      <th>id</th>\n",
       "      <th>comment_text</th>\n",
       "      <th>score</th>\n",
       "    </tr>\n",
       "  </thead>\n",
       "  <tbody>\n",
       "    <tr>\n",
       "      <th>1556047</th>\n",
       "      <td>1556050</td>\n",
       "      <td>6026014</td>\n",
       "      <td>contrast looking in my mirror, with those i h...</td>\n",
       "      <td>4</td>\n",
       "    </tr>\n",
       "    <tr>\n",
       "      <th>1537938</th>\n",
       "      <td>1537941</td>\n",
       "      <td>6004456</td>\n",
       "      <td>this identity was obviously created purely for...</td>\n",
       "      <td>3</td>\n",
       "    </tr>\n",
       "    <tr>\n",
       "      <th>188183</th>\n",
       "      <td>188183</td>\n",
       "      <td>471377</td>\n",
       "      <td>your arrogance is only exceeded by your ignora...</td>\n",
       "      <td>7</td>\n",
       "    </tr>\n",
       "    <tr>\n",
       "      <th>1512679</th>\n",
       "      <td>1512682</td>\n",
       "      <td>5972554</td>\n",
       "      <td>great sarcasm!!</td>\n",
       "      <td>0</td>\n",
       "    </tr>\n",
       "    <tr>\n",
       "      <th>645474</th>\n",
       "      <td>645475</td>\n",
       "      <td>1032551</td>\n",
       "      <td>canadians will vote out muslim vote bank politics</td>\n",
       "      <td>5</td>\n",
       "    </tr>\n",
       "    <tr>\n",
       "      <th>...</th>\n",
       "      <td>...</td>\n",
       "      <td>...</td>\n",
       "      <td>...</td>\n",
       "      <td>...</td>\n",
       "    </tr>\n",
       "    <tr>\n",
       "      <th>908170</th>\n",
       "      <td>908171</td>\n",
       "      <td>5230999</td>\n",
       "      <td>we tried that but pacific resource partnership...</td>\n",
       "      <td>2</td>\n",
       "    </tr>\n",
       "    <tr>\n",
       "      <th>1794709</th>\n",
       "      <td>1794712</td>\n",
       "      <td>6320966</td>\n",
       "      <td>wonder if these whizz-kids have heard of the l...</td>\n",
       "      <td>0</td>\n",
       "    </tr>\n",
       "    <tr>\n",
       "      <th>561741</th>\n",
       "      <td>561742</td>\n",
       "      <td>930068</td>\n",
       "      <td>intellectual cowards like you always resort to...</td>\n",
       "      <td>5</td>\n",
       "    </tr>\n",
       "    <tr>\n",
       "      <th>706578</th>\n",
       "      <td>706579</td>\n",
       "      <td>4987254</td>\n",
       "      <td>\"and the funny part is that you not only think...</td>\n",
       "      <td>4</td>\n",
       "    </tr>\n",
       "    <tr>\n",
       "      <th>159291</th>\n",
       "      <td>159291</td>\n",
       "      <td>436908</td>\n",
       "      <td>it would be just a foolish a statement without...</td>\n",
       "      <td>5</td>\n",
       "    </tr>\n",
       "  </tbody>\n",
       "</table>\n",
       "<p>486004 rows × 4 columns</p>\n",
       "</div>"
      ],
      "text/plain": [
       "         Unnamed: 0       id  \\\n",
       "1556047     1556050  6026014   \n",
       "1537938     1537941  6004456   \n",
       "188183       188183   471377   \n",
       "1512679     1512682  5972554   \n",
       "645474       645475  1032551   \n",
       "...             ...      ...   \n",
       "908170       908171  5230999   \n",
       "1794709     1794712  6320966   \n",
       "561741       561742   930068   \n",
       "706578       706579  4987254   \n",
       "159291       159291   436908   \n",
       "\n",
       "                                              comment_text  score  \n",
       "1556047   contrast looking in my mirror, with those i h...      4  \n",
       "1537938  this identity was obviously created purely for...      3  \n",
       "188183   your arrogance is only exceeded by your ignora...      7  \n",
       "1512679                                    great sarcasm!!      0  \n",
       "645474   canadians will vote out muslim vote bank politics      5  \n",
       "...                                                    ...    ...  \n",
       "908170   we tried that but pacific resource partnership...      2  \n",
       "1794709  wonder if these whizz-kids have heard of the l...      0  \n",
       "561741   intellectual cowards like you always resort to...      5  \n",
       "706578   \"and the funny part is that you not only think...      4  \n",
       "159291   it would be just a foolish a statement without...      5  \n",
       "\n",
       "[486004 rows x 4 columns]"
      ]
     },
     "execution_count": 22,
     "metadata": {},
     "output_type": "execute_result"
    }
   ],
   "source": [
    "# shuffle data\n",
    "df.sample(frac=1)"
   ]
  },
  {
   "cell_type": "code",
   "execution_count": 23,
   "id": "9b70caca-652c-4d99-90b2-4688d2e26bb7",
   "metadata": {},
   "outputs": [
    {
     "data": {
      "text/plain": [
       "(array([0.20575962, 0.04483502, 0.1646077 , 0.13132814, 0.12862034,\n",
       "        0.09468029, 0.07789854, 0.05633287, 0.05412507, 0.04181241]),\n",
       " array([ 0.,  1.,  2.,  3.,  4.,  5.,  6.,  7.,  8.,  9., 10.]),\n",
       " <BarContainer object of 10 artists>)"
      ]
     },
     "execution_count": 23,
     "metadata": {},
     "output_type": "execute_result"
    },
    {
     "data": {
      "image/png": "[encoded data removed]",
      "text/plain": [
       "<Figure size 640x480 with 1 Axes>"
      ]
     },
     "metadata": {},
     "output_type": "display_data"
    }
   ],
   "source": [
    "score = df[\"score\"]\n",
    "plt.hist(score, bins = 30, align = 'right')\n",
    "weights = np.ones_like(score)/len(score)\n",
    "plt.hist(score, weights=weights)"
   ]
  },
  {
   "cell_type": "code",
   "execution_count": 25,
   "id": "bc49ff82-cac1-4e5d-b7c9-4e62998c930a",
   "metadata": {},
   "outputs": [],
   "source": [
    "from sklearn.model_selection import train_test_split"
   ]
  },
  {
   "cell_type": "code",
   "execution_count": 27,
   "id": "52d79d3c-2ea4-47f2-8e4e-0f41ac6bd43e",
   "metadata": {},
   "outputs": [],
   "source": [
    "train_df, val_df = train_test_split(df, test_size=0.2, random_state=42)"
   ]
  },
  {
   "cell_type": "code",
   "execution_count": 28,
   "id": "f1178647-b735-4802-b926-52b6f1e30183",
   "metadata": {},
   "outputs": [
    {
     "data": {
      "text/plain": [
       "(388803, 4)"
      ]
     },
     "execution_count": 28,
     "metadata": {},
     "output_type": "execute_result"
    }
   ],
   "source": [
    "train_df.shape"
   ]
  },
  {
   "cell_type": "code",
   "execution_count": null,
   "id": "a50bb367-6da8-475b-bb03-e542e605efcc",
   "metadata": {},
   "outputs": [],
   "source": []
  }
 ],
 "metadata": {
  "kernelspec": {
   "display_name": "Python 3 (ipykernel)",
   "language": "python",
   "name": "python3"
  },
  "language_info": {
   "codemirror_mode": {
    "name": "ipython",
    "version": 3
   },
   "file_extension": ".py",
   "mimetype": "text/x-python",
   "name": "python",
   "nbconvert_exporter": "python",
   "pygments_lexer": "ipython3",
   "version": "3.11.7"
  }
 },
 "nbformat": 4,
 "nbformat_minor": 5
}
