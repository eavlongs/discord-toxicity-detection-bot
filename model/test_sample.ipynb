{
 "cells": [
  {
   "cell_type": "code",
   "execution_count": 2,
   "id": "b46526f3-8e49-4fc8-9474-1fac0a6ccb93",
   "metadata": {},
   "outputs": [],
   "source": [
    "import pandas as pd\n",
    "import matplotlib.pyplot as plt\n",
    "import numpy as np"
   ]
  },
  {
   "cell_type": "code",
   "execution_count": 3,
   "id": "e58a69b4-707e-4165-99b6-43c80a7c5af8",
   "metadata": {},
   "outputs": [],
   "source": [
    "# Load the dataset\n",
    "data_path = \"./dataset/processed/train.csv\"\n",
    "df = pd.read_csv(data_path, dtype={\"id\": str})\n",
    "\n",
    "# Preprocess the dataset\n",
    "df['comment_text'] = df['comment_text'].astype(str)\n",
    "df['score'] = df['score'].astype(int)"
   ]
  },
  {
   "cell_type": "code",
   "execution_count": 4,
   "id": "d6260145-5ee1-42f0-b0d6-9d75dd2d2bc4",
   "metadata": {},
   "outputs": [
    {
     "data": {
      "text/plain": [
       "(array([0.71715087, 0.01109306, 0.12706569, 0.03249315, 0.03182319,\n",
       "        0.02342576, 0.01927362, 0.01393785, 0.0133916 , 0.01034521]),\n",
       " array([ 0.,  1.,  2.,  3.,  4.,  5.,  6.,  7.,  8.,  9., 10.]),\n",
       " <BarContainer object of 10 artists>)"
      ]
     },
     "execution_count": 4,
     "metadata": {},
     "output_type": "execute_result"
    },
    {
     "data": {
      "image/png": "[encoded data removed]",
      "text/plain": [
       "<Figure size 640x480 with 1 Axes>"
      ]
     },
     "metadata": {},
     "output_type": "display_data"
    }
   ],
   "source": [
    "score = df[\"score\"]\n",
    "plt.hist(score, bins = 30, align = 'right')\n",
    "weights = np.ones_like(score)/len(score)\n",
    "plt.hist(score, weights=weights)"
   ]
  },
  {
   "cell_type": "code",
   "execution_count": 5,
   "id": "5d6362a7-db6f-4501-9397-940bdf596a23",
   "metadata": {},
   "outputs": [],
   "source": [
    "not_toxic = df.loc[df[\"score\"] == 0]\n",
    "level_2_toxic = df.loc[df[\"score\"] == 2]\n",
    "level_1_toxic = df.loc[df[\"score\"] == 1]\n",
    "higher_than_2_toxic = df.loc[df[\"score\"] > 2]"
   ]
  },
  {
   "cell_type": "code",
   "execution_count": 15,
   "id": "2caa390d-ef6f-4fba-aae6-96cb3fca7ef4",
   "metadata": {},
   "outputs": [],
   "source": [
    "df = pd.concat([not_toxic.sample(60_000, random_state=53), level_2_toxic.sample(65_000, random_state=53), level_1_toxic, higher_than_2_toxic])"
   ]
  },
  {
   "cell_type": "code",
   "execution_count": 16,
   "id": "fbb62294-8dff-400f-8401-2722cee4ab79",
   "metadata": {},
   "outputs": [
    {
     "data": {
      "text/html": [
       "<div>\n",
       "<style scoped>\n",
       "    .dataframe tbody tr th:only-of-type {\n",
       "        vertical-align: middle;\n",
       "    }\n",
       "\n",
       "    .dataframe tbody tr th {\n",
       "        vertical-align: top;\n",
       "    }\n",
       "\n",
       "    .dataframe thead th {\n",
       "        text-align: right;\n",
       "    }\n",
       "</style>\n",
       "<table border=\"1\" class=\"dataframe\">\n",
       "  <thead>\n",
       "    <tr style=\"text-align: right;\">\n",
       "      <th></th>\n",
       "      <th>Unnamed: 0</th>\n",
       "      <th>id</th>\n",
       "      <th>comment_text</th>\n",
       "      <th>score</th>\n",
       "    </tr>\n",
       "  </thead>\n",
       "  <tbody>\n",
       "    <tr>\n",
       "      <th>1601670</th>\n",
       "      <td>1601673</td>\n",
       "      <td>6082035</td>\n",
       "      <td>cannot argue about \"fake news\" . it was his pr...</td>\n",
       "      <td>4</td>\n",
       "    </tr>\n",
       "    <tr>\n",
       "      <th>1290015</th>\n",
       "      <td>1290017</td>\n",
       "      <td>5691339</td>\n",
       "      <td>lol! the ole lesbaru! they sound like lawnmowe...</td>\n",
       "      <td>3</td>\n",
       "    </tr>\n",
       "    <tr>\n",
       "      <th>815047</th>\n",
       "      <td>815048</td>\n",
       "      <td>5118424</td>\n",
       "      <td>all i know is every night i wake up in the mid...</td>\n",
       "      <td>5</td>\n",
       "    </tr>\n",
       "    <tr>\n",
       "      <th>127673</th>\n",
       "      <td>127673</td>\n",
       "      <td>398230</td>\n",
       "      <td>it is a biology thing cindy. men and women and...</td>\n",
       "      <td>5</td>\n",
       "    </tr>\n",
       "    <tr>\n",
       "      <th>783960</th>\n",
       "      <td>783961</td>\n",
       "      <td>5080240</td>\n",
       "      <td>how bizarre that stratford, once styling itsel...</td>\n",
       "      <td>2</td>\n",
       "    </tr>\n",
       "    <tr>\n",
       "      <th>...</th>\n",
       "      <td>...</td>\n",
       "      <td>...</td>\n",
       "      <td>...</td>\n",
       "      <td>...</td>\n",
       "    </tr>\n",
       "    <tr>\n",
       "      <th>1016317</th>\n",
       "      <td>1016319</td>\n",
       "      <td>5360367</td>\n",
       "      <td>the only way to stop a bad toddler with a gun...</td>\n",
       "      <td>5</td>\n",
       "    </tr>\n",
       "    <tr>\n",
       "      <th>1205840</th>\n",
       "      <td>1205842</td>\n",
       "      <td>5589624</td>\n",
       "      <td>you cannot believe a word justin says.  he has...</td>\n",
       "      <td>5</td>\n",
       "    </tr>\n",
       "    <tr>\n",
       "      <th>1476491</th>\n",
       "      <td>1476493</td>\n",
       "      <td>5926887</td>\n",
       "      <td>you miss the point. there is an entire industr...</td>\n",
       "      <td>3</td>\n",
       "    </tr>\n",
       "    <tr>\n",
       "      <th>1181838</th>\n",
       "      <td>1181840</td>\n",
       "      <td>5560716</td>\n",
       "      <td>so what? \\n\\nare you implying that the us popu...</td>\n",
       "      <td>2</td>\n",
       "    </tr>\n",
       "    <tr>\n",
       "      <th>1242833</th>\n",
       "      <td>1242835</td>\n",
       "      <td>5633416</td>\n",
       "      <td>it is always hard to give up power, privilege,...</td>\n",
       "      <td>4</td>\n",
       "    </tr>\n",
       "  </tbody>\n",
       "</table>\n",
       "<p>441004 rows × 4 columns</p>\n",
       "</div>"
      ],
      "text/plain": [
       "         Unnamed: 0       id  \\\n",
       "1601670     1601673  6082035   \n",
       "1290015     1290017  5691339   \n",
       "815047       815048  5118424   \n",
       "127673       127673   398230   \n",
       "783960       783961  5080240   \n",
       "...             ...      ...   \n",
       "1016317     1016319  5360367   \n",
       "1205840     1205842  5589624   \n",
       "1476491     1476493  5926887   \n",
       "1181838     1181840  5560716   \n",
       "1242833     1242835  5633416   \n",
       "\n",
       "                                              comment_text  score  \n",
       "1601670  cannot argue about \"fake news\" . it was his pr...      4  \n",
       "1290015  lol! the ole lesbaru! they sound like lawnmowe...      3  \n",
       "815047   all i know is every night i wake up in the mid...      5  \n",
       "127673   it is a biology thing cindy. men and women and...      5  \n",
       "783960   how bizarre that stratford, once styling itsel...      2  \n",
       "...                                                    ...    ...  \n",
       "1016317   the only way to stop a bad toddler with a gun...      5  \n",
       "1205840  you cannot believe a word justin says.  he has...      5  \n",
       "1476491  you miss the point. there is an entire industr...      3  \n",
       "1181838  so what? \\n\\nare you implying that the us popu...      2  \n",
       "1242833  it is always hard to give up power, privilege,...      4  \n",
       "\n",
       "[441004 rows x 4 columns]"
      ]
     },
     "execution_count": 16,
     "metadata": {},
     "output_type": "execute_result"
    }
   ],
   "source": [
    "# shuffle data\n",
    "df.sample(frac=1)"
   ]
  },
  {
   "cell_type": "code",
   "execution_count": 17,
   "id": "9b70caca-652c-4d99-90b2-4688d2e26bb7",
   "metadata": {},
   "outputs": [
    {
     "data": {
      "text/plain": [
       "(array([0.15872872, 0.04940998, 0.14739095, 0.14472885, 0.14174475,\n",
       "        0.10434146, 0.08584729, 0.06208107, 0.05964799, 0.04607895]),\n",
       " array([ 0.,  1.,  2.,  3.,  4.,  5.,  6.,  7.,  8.,  9., 10.]),\n",
       " <BarContainer object of 10 artists>)"
      ]
     },
     "execution_count": 17,
     "metadata": {},
     "output_type": "execute_result"
    },
    {
     "data": {
      "image/png": "[encoded data removed]",
      "text/plain": [
       "<Figure size 640x480 with 1 Axes>"
      ]
     },
     "metadata": {},
     "output_type": "display_data"
    }
   ],
   "source": [
    "score = df[\"score\"]\n",
    "plt.hist(score, bins = 30, align = 'right')\n",
    "weights = np.ones_like(score)/len(score)\n",
    "plt.hist(score, weights=weights)"
   ]
  },
  {
   "cell_type": "code",
   "execution_count": 9,
   "id": "bc49ff82-cac1-4e5d-b7c9-4e62998c930a",
   "metadata": {},
   "outputs": [],
   "source": [
    "from sklearn.model_selection import train_test_split"
   ]
  },
  {
   "cell_type": "code",
   "execution_count": 10,
   "id": "52d79d3c-2ea4-47f2-8e4e-0f41ac6bd43e",
   "metadata": {},
   "outputs": [],
   "source": [
    "train_df, val_df = train_test_split(df, test_size=0.2, random_state=42)"
   ]
  },
  {
   "cell_type": "code",
   "execution_count": 11,
   "id": "f1178647-b735-4802-b926-52b6f1e30183",
   "metadata": {},
   "outputs": [
    {
     "data": {
      "text/plain": [
       "(356803, 4)"
      ]
     },
     "execution_count": 11,
     "metadata": {},
     "output_type": "execute_result"
    }
   ],
   "source": [
    "train_df.shape"
   ]
  },
  {
   "cell_type": "code",
   "execution_count": null,
   "id": "a50bb367-6da8-475b-bb03-e542e605efcc",
   "metadata": {},
   "outputs": [],
   "source": []
  }
 ],
 "metadata": {
  "kernelspec": {
   "display_name": "Python 3 (ipykernel)",
   "language": "python",
   "name": "python3"
  },
  "language_info": {
   "codemirror_mode": {
    "name": "ipython",
    "version": 3
   },
   "file_extension": ".py",
   "mimetype": "text/x-python",
   "name": "python",
   "nbconvert_exporter": "python",
   "pygments_lexer": "ipython3",
   "version": "3.11.7"
  }
 },
 "nbformat": 4,
 "nbformat_minor": 5
}
